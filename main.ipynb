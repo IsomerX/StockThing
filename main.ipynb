{
 "metadata": {
  "language_info": {
   "codemirror_mode": {
    "name": "ipython",
    "version": 3
   },
   "file_extension": ".py",
   "mimetype": "text/x-python",
   "name": "python",
   "nbconvert_exporter": "python",
   "pygments_lexer": "ipython3",
   "version": "3.8.3"
  },
  "orig_nbformat": 2,
  "kernelspec": {
   "name": "python383jvsc74a57bd02273efe5f9a085c31a9049028fa9eed8fbfb2660845cc6466f09878e1cf014fe",
   "display_name": "Python 3.8.3 64-bit ('base': conda)"
  },
  "metadata": {
   "interpreter": {
    "hash": "66d918d410398577ebf5925d9040f6c2e67e32ef59053e65faa18ba4e6d2beb1"
   }
  }
 },
 "nbformat": 4,
 "nbformat_minor": 2,
 "cells": [
  {
   "cell_type": "code",
   "execution_count": null,
   "metadata": {},
   "outputs": [],
   "source": [
    "import numpy as np \n",
    "import pandas as pd \n",
    "import yfinance as yf \n",
    "import matplotlib.pyplot as plt"
   ]
  },
  {
   "cell_type": "code",
   "execution_count": null,
   "metadata": {},
   "outputs": [],
   "source": [
    "wiki = 'https://en.wikipedia.org/wiki/'\n",
    "tickerSen = pd.read_html(wiki+'BSE_SENSEX')[1].Symbol.to_list()"
   ]
  },
  {
   "cell_type": "code",
   "execution_count": null,
   "metadata": {
    "tags": []
   },
   "outputs": [],
   "source": [
    "table = data[0]\n",
    "table\n"
   ]
  },
  {
   "cell_type": "code",
   "execution_count": null,
   "metadata": {},
   "outputs": [],
   "source": [
    "df"
   ]
  },
  {
   "cell_type": "code",
   "execution_count": null,
   "metadata": {},
   "outputs": [],
   "source": [
    "data = []\n",
    "\n",
    "for i in tickerSen:\n",
    "    data.append(yf.download(i).reset_index())"
   ]
  },
  {
   "cell_type": "code",
   "execution_count": null,
   "metadata": {},
   "outputs": [],
   "source": []
  },
  {
   "cell_type": "code",
   "execution_count": null,
   "metadata": {},
   "outputs": [],
   "source": [
    "table"
   ]
  },
  {
   "cell_type": "code",
   "execution_count": null,
   "metadata": {},
   "outputs": [],
   "source": [
    "table.drop(\"High\", inplace=True, axis = 1)\n"
   ]
  },
  {
   "cell_type": "code",
   "execution_count": null,
   "metadata": {},
   "outputs": [],
   "source": [
    "table.drop([\"Low\", \"Open\", \"Close\"], inplace=True, axis = 1)\n"
   ]
  },
  {
   "cell_type": "code",
   "execution_count": null,
   "metadata": {},
   "outputs": [],
   "source": [
    "table"
   ]
  },
  {
   "cell_type": "code",
   "execution_count": null,
   "metadata": {},
   "outputs": [],
   "source": [
    "r = open(r\"tickers.txt\", 'r')\n",
    "contents = r.readlines()[0].split()\n",
    "r.close()"
   ]
  },
  {
   "cell_type": "code",
   "execution_count": null,
   "metadata": {},
   "outputs": [],
   "source": [
    "contents"
   ]
  },
  {
   "cell_type": "code",
   "execution_count": null,
   "metadata": {
    "tags": []
   },
   "outputs": [],
   "source": [
    "data2 = []\n",
    "inde = 0\n",
    "for i in contents:\n",
    "    data2.append(yf.download(i).reset_index())\n",
    "    if(inde == 10):\n",
    "        break\n",
    "    inde+=1"
   ]
  },
  {
   "cell_type": "code",
   "execution_count": null,
   "metadata": {},
   "outputs": [],
   "source": [
    "# j = 0\n",
    "# for i,k in zip(data2,contents):\n",
    "#     i.to_csv(f'{k}.csv')\n",
    "#     j+=1\n",
    "#     if(j==50):\n",
    "#         break"
   ]
  },
  {
   "source": [
    "# Run the below to initiate the array of stocks"
   ],
   "cell_type": "markdown",
   "metadata": {}
  },
  {
   "cell_type": "code",
   "execution_count": null,
   "metadata": {},
   "outputs": [],
   "source": [
    "j = 0\n",
    "cont = []\n",
    "for i in contents:\n",
    "    cont.append(pd.read_csv(f'{i}.csv'))\n",
    "    j+=1\n",
    "    if(j==50):\n",
    "        break\n",
    "cont"
   ]
  },
  {
   "cell_type": "code",
   "execution_count": null,
   "metadata": {},
   "outputs": [],
   "source": [
    "table"
   ]
  },
  {
   "cell_type": "code",
   "execution_count": null,
   "metadata": {},
   "outputs": [],
   "source": [
    "table.plot(x = 'Date', y = \"Adj Close\")"
   ]
  },
  {
   "cell_type": "code",
   "execution_count": null,
   "metadata": {},
   "outputs": [],
   "source": [
    "tor = 0\n",
    "for i, j in zip(data2, contents):\n",
    "    i.plot(x = 'Date', y = \"Adj Close\", title = f\"{j}\")\n",
    "    if(tor == 15):\n",
    "        break\n",
    "    tor+=1"
   ]
  },
  {
   "cell_type": "code",
   "execution_count": 22,
   "metadata": {},
   "outputs": [
    {
     "output_type": "stream",
     "name": "stdout",
     "text": [
      "[*********************100%***********************]  1 of 1 completed\n"
     ]
    }
   ],
   "source": [
    "amazon = yf.download(\"AMZN\").reset_index()"
   ]
  },
  {
   "cell_type": "code",
   "execution_count": 23,
   "metadata": {},
   "outputs": [
    {
     "output_type": "stream",
     "name": "stdout",
     "text": [
      "[*********************100%***********************]  1 of 1 completed\n"
     ]
    }
   ],
   "source": [
    "goog = yf.download(\"GOOG\").reset_index()"
   ]
  },
  {
   "cell_type": "code",
   "execution_count": null,
   "metadata": {},
   "outputs": [],
   "source": [
    "googl = yf.download(\"GOOGL\").reset_index()"
   ]
  },
  {
   "cell_type": "code",
   "execution_count": null,
   "metadata": {},
   "outputs": [],
   "source": [
    "print(goog)"
   ]
  },
  {
   "cell_type": "code",
   "execution_count": null,
   "metadata": {},
   "outputs": [],
   "source": [
    "goog.plot(x = 'Date', y = \"Adj Close\", title = \"GOOGLE\")\n",
    "amazon.plot(x = 'Date', y = \"Adj Close\", title = \"AMAZON\")"
   ]
  },
  {
   "cell_type": "code",
   "execution_count": null,
   "metadata": {},
   "outputs": [],
   "source": [
    "amazon = yf.download(\"AMZN\").reset_index()\n",
    "goog = yf.download(\"GOOG\").reset_index()\n",
    "googl = yf.download(\"GOOGL\").reset_index()\n",
    "facebook = yf.download(\"FB\").reset_index()\n",
    "netflix = yf.download(\"NFLX\").reset_index()"
   ]
  },
  {
   "cell_type": "code",
   "execution_count": null,
   "metadata": {},
   "outputs": [],
   "source": [
    "goog.plot(x = 'Date', y = \"Adj Close\", title = \"GOOGLE\")\n",
    "amazon.plot(x = 'Date', y = \"Adj Close\", title = \"AMAZON\")\n",
    "googl.plot(x = 'Date', y = \"Adj Close\", title = \"GOOGLE1\")\n",
    "facebook.plot(x = 'Date', y = \"Adj Close\", title = \"FB\")\n",
    "netflix.plot(x = 'Date', y = \"Adj Close\", title = \"NETFLIX\")"
   ]
  },
  {
   "cell_type": "code",
   "execution_count": 24,
   "metadata": {},
   "outputs": [],
   "source": [
    "amazon.drop([\"High\",\"Low\", \"Open\", \"Close\"], inplace=True, axis = 1)"
   ]
  },
  {
   "cell_type": "code",
   "execution_count": 25,
   "metadata": {},
   "outputs": [],
   "source": [
    "goog.drop([\"High\",\"Low\", \"Open\", \"Close\"], inplace=True, axis = 1)"
   ]
  },
  {
   "cell_type": "code",
   "execution_count": 31,
   "metadata": {},
   "outputs": [
    {
     "output_type": "execute_result",
     "data": {
      "text/plain": [
       "      index       Date    Adj Close    Volume\n",
       "0         0 2004-08-19    49.982655  44871361\n",
       "1         1 2004-08-20    53.952770  22942874\n",
       "2         2 2004-08-23    54.495735  18342897\n",
       "3         3 2004-08-24    52.239197  15319808\n",
       "4         4 2004-08-25    52.802086   9232276\n",
       "...     ...        ...          ...       ...\n",
       "4227   4227 2021-06-04  2451.760010   1295800\n",
       "4228   4228 2021-06-07  2466.090088   1192500\n",
       "4229   4229 2021-06-08  2482.850098   1253000\n",
       "4230   4230 2021-06-09  2491.399902   1005400\n",
       "4231   4231 2021-06-10  2521.600098   1551062\n",
       "\n",
       "[4232 rows x 4 columns]"
      ],
      "text/html": "<div>\n<style scoped>\n    .dataframe tbody tr th:only-of-type {\n        vertical-align: middle;\n    }\n\n    .dataframe tbody tr th {\n        vertical-align: top;\n    }\n\n    .dataframe thead th {\n        text-align: right;\n    }\n</style>\n<table border=\"1\" class=\"dataframe\">\n  <thead>\n    <tr style=\"text-align: right;\">\n      <th></th>\n      <th>index</th>\n      <th>Date</th>\n      <th>Adj Close</th>\n      <th>Volume</th>\n    </tr>\n  </thead>\n  <tbody>\n    <tr>\n      <th>0</th>\n      <td>0</td>\n      <td>2004-08-19</td>\n      <td>49.982655</td>\n      <td>44871361</td>\n    </tr>\n    <tr>\n      <th>1</th>\n      <td>1</td>\n      <td>2004-08-20</td>\n      <td>53.952770</td>\n      <td>22942874</td>\n    </tr>\n    <tr>\n      <th>2</th>\n      <td>2</td>\n      <td>2004-08-23</td>\n      <td>54.495735</td>\n      <td>18342897</td>\n    </tr>\n    <tr>\n      <th>3</th>\n      <td>3</td>\n      <td>2004-08-24</td>\n      <td>52.239197</td>\n      <td>15319808</td>\n    </tr>\n    <tr>\n      <th>4</th>\n      <td>4</td>\n      <td>2004-08-25</td>\n      <td>52.802086</td>\n      <td>9232276</td>\n    </tr>\n    <tr>\n      <th>...</th>\n      <td>...</td>\n      <td>...</td>\n      <td>...</td>\n      <td>...</td>\n    </tr>\n    <tr>\n      <th>4227</th>\n      <td>4227</td>\n      <td>2021-06-04</td>\n      <td>2451.760010</td>\n      <td>1295800</td>\n    </tr>\n    <tr>\n      <th>4228</th>\n      <td>4228</td>\n      <td>2021-06-07</td>\n      <td>2466.090088</td>\n      <td>1192500</td>\n    </tr>\n    <tr>\n      <th>4229</th>\n      <td>4229</td>\n      <td>2021-06-08</td>\n      <td>2482.850098</td>\n      <td>1253000</td>\n    </tr>\n    <tr>\n      <th>4230</th>\n      <td>4230</td>\n      <td>2021-06-09</td>\n      <td>2491.399902</td>\n      <td>1005400</td>\n    </tr>\n    <tr>\n      <th>4231</th>\n      <td>4231</td>\n      <td>2021-06-10</td>\n      <td>2521.600098</td>\n      <td>1551062</td>\n    </tr>\n  </tbody>\n</table>\n<p>4232 rows × 4 columns</p>\n</div>"
     },
     "metadata": {},
     "execution_count": 31
    }
   ],
   "source": [
    "a=amazon.reset_index()\n",
    "b=goog.reset_index()\n",
    "a\n",
    "b"
   ]
  },
  {
   "cell_type": "code",
   "execution_count": 32,
   "metadata": {},
   "outputs": [
    {
     "output_type": "execute_result",
     "data": {
      "text/plain": [
       "      index       Date    Adj Close    Volume  index       Date  Adj Close  \\\n",
       "0         0 1997-05-15     1.958333  72156000    0.0 2004-08-19  49.982655   \n",
       "1         1 1997-05-16     1.729167  14700000    1.0 2004-08-20  53.952770   \n",
       "2         2 1997-05-19     1.708333   6106800    2.0 2004-08-23  54.495735   \n",
       "3         3 1997-05-20     1.635417   5467200    3.0 2004-08-24  52.239197   \n",
       "4         4 1997-05-21     1.427083  18853200    4.0 2004-08-25  52.802086   \n",
       "...     ...        ...          ...       ...    ...        ...        ...   \n",
       "6053   6053 2021-06-04  3206.219971   2245700    NaN        NaT        NaN   \n",
       "6054   6054 2021-06-07  3198.010010   2215800    NaN        NaT        NaN   \n",
       "6055   6055 2021-06-08  3264.110107   3416700    NaN        NaT        NaN   \n",
       "6056   6056 2021-06-09  3281.149902   2449800    NaN        NaT        NaN   \n",
       "6057   6057 2021-06-10  3349.649902   3286978    NaN        NaT        NaN   \n",
       "\n",
       "          Volume  \n",
       "0     44871361.0  \n",
       "1     22942874.0  \n",
       "2     18342897.0  \n",
       "3     15319808.0  \n",
       "4      9232276.0  \n",
       "...          ...  \n",
       "6053         NaN  \n",
       "6054         NaN  \n",
       "6055         NaN  \n",
       "6056         NaN  \n",
       "6057         NaN  \n",
       "\n",
       "[6058 rows x 8 columns]"
      ],
      "text/html": "<div>\n<style scoped>\n    .dataframe tbody tr th:only-of-type {\n        vertical-align: middle;\n    }\n\n    .dataframe tbody tr th {\n        vertical-align: top;\n    }\n\n    .dataframe thead th {\n        text-align: right;\n    }\n</style>\n<table border=\"1\" class=\"dataframe\">\n  <thead>\n    <tr style=\"text-align: right;\">\n      <th></th>\n      <th>index</th>\n      <th>Date</th>\n      <th>Adj Close</th>\n      <th>Volume</th>\n      <th>index</th>\n      <th>Date</th>\n      <th>Adj Close</th>\n      <th>Volume</th>\n    </tr>\n  </thead>\n  <tbody>\n    <tr>\n      <th>0</th>\n      <td>0</td>\n      <td>1997-05-15</td>\n      <td>1.958333</td>\n      <td>72156000</td>\n      <td>0.0</td>\n      <td>2004-08-19</td>\n      <td>49.982655</td>\n      <td>44871361.0</td>\n    </tr>\n    <tr>\n      <th>1</th>\n      <td>1</td>\n      <td>1997-05-16</td>\n      <td>1.729167</td>\n      <td>14700000</td>\n      <td>1.0</td>\n      <td>2004-08-20</td>\n      <td>53.952770</td>\n      <td>22942874.0</td>\n    </tr>\n    <tr>\n      <th>2</th>\n      <td>2</td>\n      <td>1997-05-19</td>\n      <td>1.708333</td>\n      <td>6106800</td>\n      <td>2.0</td>\n      <td>2004-08-23</td>\n      <td>54.495735</td>\n      <td>18342897.0</td>\n    </tr>\n    <tr>\n      <th>3</th>\n      <td>3</td>\n      <td>1997-05-20</td>\n      <td>1.635417</td>\n      <td>5467200</td>\n      <td>3.0</td>\n      <td>2004-08-24</td>\n      <td>52.239197</td>\n      <td>15319808.0</td>\n    </tr>\n    <tr>\n      <th>4</th>\n      <td>4</td>\n      <td>1997-05-21</td>\n      <td>1.427083</td>\n      <td>18853200</td>\n      <td>4.0</td>\n      <td>2004-08-25</td>\n      <td>52.802086</td>\n      <td>9232276.0</td>\n    </tr>\n    <tr>\n      <th>...</th>\n      <td>...</td>\n      <td>...</td>\n      <td>...</td>\n      <td>...</td>\n      <td>...</td>\n      <td>...</td>\n      <td>...</td>\n      <td>...</td>\n    </tr>\n    <tr>\n      <th>6053</th>\n      <td>6053</td>\n      <td>2021-06-04</td>\n      <td>3206.219971</td>\n      <td>2245700</td>\n      <td>NaN</td>\n      <td>NaT</td>\n      <td>NaN</td>\n      <td>NaN</td>\n    </tr>\n    <tr>\n      <th>6054</th>\n      <td>6054</td>\n      <td>2021-06-07</td>\n      <td>3198.010010</td>\n      <td>2215800</td>\n      <td>NaN</td>\n      <td>NaT</td>\n      <td>NaN</td>\n      <td>NaN</td>\n    </tr>\n    <tr>\n      <th>6055</th>\n      <td>6055</td>\n      <td>2021-06-08</td>\n      <td>3264.110107</td>\n      <td>3416700</td>\n      <td>NaN</td>\n      <td>NaT</td>\n      <td>NaN</td>\n      <td>NaN</td>\n    </tr>\n    <tr>\n      <th>6056</th>\n      <td>6056</td>\n      <td>2021-06-09</td>\n      <td>3281.149902</td>\n      <td>2449800</td>\n      <td>NaN</td>\n      <td>NaT</td>\n      <td>NaN</td>\n      <td>NaN</td>\n    </tr>\n    <tr>\n      <th>6057</th>\n      <td>6057</td>\n      <td>2021-06-10</td>\n      <td>3349.649902</td>\n      <td>3286978</td>\n      <td>NaN</td>\n      <td>NaT</td>\n      <td>NaN</td>\n      <td>NaN</td>\n    </tr>\n  </tbody>\n</table>\n<p>6058 rows × 8 columns</p>\n</div>"
     },
     "metadata": {},
     "execution_count": 32
    }
   ],
   "source": [
    "t = pd.concat([a,b],axis = 1)\n",
    "t"
   ]
  }
 ]
}